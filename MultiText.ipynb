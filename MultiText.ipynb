{
  "nbformat": 4,
  "nbformat_minor": 0,
  "metadata": {
    "colab": {
      "name": "MultiText.ipynb",
      "provenance": [],
      "collapsed_sections": [],
      "include_colab_link": true
    },
    "kernelspec": {
      "name": "python3",
      "display_name": "Python 3"
    },
    "language_info": {
      "name": "python"
    }
  },
  "cells": [
    {
      "cell_type": "markdown",
      "metadata": {
        "id": "view-in-github",
        "colab_type": "text"
      },
      "source": [
        "<a href=\"https://colab.research.google.com/github/Stehen76/Exercise/blob/main/MultiText.ipynb\" target=\"_parent\"><img src=\"https://colab.research.google.com/assets/colab-badge.svg\" alt=\"Open In Colab\"/></a>"
      ]
    },
    {
      "cell_type": "code",
      "metadata": {
        "id": "JY_9OKVxekhX"
      },
      "source": [
        "# Visualization\n",
        "import matplotlib.pyplot as plt\n",
        "import plotly.express as px\n",
        "\n",
        "# Seeds\n",
        "import random\n",
        "\n",
        "# Processing\n",
        "import pandas as pd\n",
        "import numpy as np\n",
        "from collections import Counter\n",
        "import nltk\n",
        "from nltk.corpus import stopwords\n",
        "\n",
        "# Feature extraction\n",
        "from sklearn.feature_extraction.text import CountVectorizer"
      ],
      "execution_count": null,
      "outputs": []
    },
    {
      "cell_type": "code",
      "metadata": {
        "colab": {
          "base_uri": "https://localhost:8080/",
          "height": 196
        },
        "id": "z5DcCFu5enNh",
        "outputId": "d1b7b8b9-b389-4711-bb69-d6f51c5a734f"
      },
      "source": [
        "df_es = pd.read_csv ('Violetta __ Omdena - Data.csv')\n",
        "df_es.head(2)"
      ],
      "execution_count": null,
      "outputs": [
        {
          "output_type": "execute_result",
          "data": {
            "text/html": [
              "<div>\n",
              "<style scoped>\n",
              "    .dataframe tbody tr th:only-of-type {\n",
              "        vertical-align: middle;\n",
              "    }\n",
              "\n",
              "    .dataframe tbody tr th {\n",
              "        vertical-align: top;\n",
              "    }\n",
              "\n",
              "    .dataframe thead th {\n",
              "        text-align: right;\n",
              "    }\n",
              "</style>\n",
              "<table border=\"1\" class=\"dataframe\">\n",
              "  <thead>\n",
              "    <tr style=\"text-align: right;\">\n",
              "      <th></th>\n",
              "      <th>INPUTS</th>\n",
              "      <th>OUTPUTS</th>\n",
              "      <th>CATEGORY</th>\n",
              "      <th>Unnamed: 3</th>\n",
              "      <th>RELATIONSHIP</th>\n",
              "      <th>KEY WORDS</th>\n",
              "    </tr>\n",
              "  </thead>\n",
              "  <tbody>\n",
              "    <tr>\n",
              "      <th>0</th>\n",
              "      <td>Tuve relaciones sexuales con mi novia, se romp...</td>\n",
              "      <td>Es muy importante que no te adelantes a hechos...</td>\n",
              "      <td>Sexualidad</td>\n",
              "      <td>NaN</td>\n",
              "      <td>NaN</td>\n",
              "      <td>ansiedad, embarazo, condón, papá, planeación f...</td>\n",
              "    </tr>\n",
              "    <tr>\n",
              "      <th>1</th>\n",
              "      <td>Porque aveses siento que no soy lo suficientem...</td>\n",
              "      <td>Probablemente es la exigencia que tienes de ti...</td>\n",
              "      <td>Salud mental</td>\n",
              "      <td>NaN</td>\n",
              "      <td>Personal</td>\n",
              "      <td>suficiente, bueno, valor</td>\n",
              "    </tr>\n",
              "  </tbody>\n",
              "</table>\n",
              "</div>"
            ],
            "text/plain": [
              "                                              INPUTS  ...                                          KEY WORDS\n",
              "0  Tuve relaciones sexuales con mi novia, se romp...  ...  ansiedad, embarazo, condón, papá, planeación f...\n",
              "1  Porque aveses siento que no soy lo suficientem...  ...                           suficiente, bueno, valor\n",
              "\n",
              "[2 rows x 6 columns]"
            ]
          },
          "metadata": {
            "tags": []
          },
          "execution_count": 48
        }
      ]
    },
    {
      "cell_type": "code",
      "metadata": {
        "colab": {
          "base_uri": "https://localhost:8080/",
          "height": 179
        },
        "id": "7d8qKeUeeymb",
        "outputId": "c1c2fd94-d728-4c0d-aa4d-68cea19ebefa"
      },
      "source": [
        "# Change column names so they are more readable\n",
        "df_es = df_es.rename(columns={\"INPUTS\": \"Question\",\n",
        "                              \"OUTPUTS\": \"Answer\",\n",
        "                              \"CATEGORY\": \"Label\",\n",
        "                              \"Unnamed: 3\": \"Label2\",\n",
        "                              \"RELATIONSHIP\": \"Relationship\",\n",
        "                              \"KEY WORDS\": \"Key_words\"})\n",
        "\n",
        "# Take a look at data\n",
        "df_es.iloc[:2]"
      ],
      "execution_count": null,
      "outputs": [
        {
          "output_type": "execute_result",
          "data": {
            "text/html": [
              "<div>\n",
              "<style scoped>\n",
              "    .dataframe tbody tr th:only-of-type {\n",
              "        vertical-align: middle;\n",
              "    }\n",
              "\n",
              "    .dataframe tbody tr th {\n",
              "        vertical-align: top;\n",
              "    }\n",
              "\n",
              "    .dataframe thead th {\n",
              "        text-align: right;\n",
              "    }\n",
              "</style>\n",
              "<table border=\"1\" class=\"dataframe\">\n",
              "  <thead>\n",
              "    <tr style=\"text-align: right;\">\n",
              "      <th></th>\n",
              "      <th>Question</th>\n",
              "      <th>Answer</th>\n",
              "      <th>Label</th>\n",
              "      <th>Label2</th>\n",
              "      <th>Relationship</th>\n",
              "      <th>Key_words</th>\n",
              "    </tr>\n",
              "  </thead>\n",
              "  <tbody>\n",
              "    <tr>\n",
              "      <th>0</th>\n",
              "      <td>Tuve relaciones sexuales con mi novia, se romp...</td>\n",
              "      <td>Es muy importante que no te adelantes a hechos...</td>\n",
              "      <td>Sexualidad</td>\n",
              "      <td>NaN</td>\n",
              "      <td>NaN</td>\n",
              "      <td>ansiedad, embarazo, condón, papá, planeación f...</td>\n",
              "    </tr>\n",
              "    <tr>\n",
              "      <th>1</th>\n",
              "      <td>Porque aveses siento que no soy lo suficientem...</td>\n",
              "      <td>Probablemente es la exigencia que tienes de ti...</td>\n",
              "      <td>Salud mental</td>\n",
              "      <td>NaN</td>\n",
              "      <td>Personal</td>\n",
              "      <td>suficiente, bueno, valor</td>\n",
              "    </tr>\n",
              "  </tbody>\n",
              "</table>\n",
              "</div>"
            ],
            "text/plain": [
              "                                            Question  ...                                          Key_words\n",
              "0  Tuve relaciones sexuales con mi novia, se romp...  ...  ansiedad, embarazo, condón, papá, planeación f...\n",
              "1  Porque aveses siento que no soy lo suficientem...  ...                           suficiente, bueno, valor\n",
              "\n",
              "[2 rows x 6 columns]"
            ]
          },
          "metadata": {
            "tags": []
          },
          "execution_count": 49
        }
      ]
    },
    {
      "cell_type": "code",
      "metadata": {
        "id": "ZhOKw-UFuAGE"
      },
      "source": [
        "# make copy of DataFrame\n",
        "df_es_copy = df_es.copy()\n",
        "\n",
        "# change null values in 'Label' column with value 'Not_Label'\n",
        "df_es_copy.loc[df_es_copy.Label.isnull(), \"Label\"] = \"Not_Label\"\n",
        "\n",
        "# change null values in 'Label2' column with value 'Not_Label'\n",
        "df_es_copy.loc[df_es_copy.Label2.isnull(), \"Label2\"] = \"Not_Label\"\n",
        "\n",
        "# change null values in 'Relationship' column with value 'Not_Label'\n",
        "df_es_copy.loc[df_es_copy.Relationship.isnull(), \"Relationship\"] = \"Not_Label\""
      ],
      "execution_count": null,
      "outputs": []
    },
    {
      "cell_type": "code",
      "metadata": {
        "colab": {
          "base_uri": "https://localhost:8080/",
          "height": 204
        },
        "id": "beWvjUnoe2je",
        "outputId": "f92b8ba7-c36d-4581-995e-7407a702048c"
      },
      "source": [
        "from io import StringIO\n",
        "col = ['Question', 'Label']\n",
        "df_es_copy = df_es_copy[col]\n",
        "df_es_copy = df_es_copy[pd.notnull(df_es_copy['Question'])]\n",
        "df_es_copy.columns = ['Question', 'Label']\n",
        "df_es_copy['category_id'] = df_es_copy['Label'].factorize()[0]\n",
        "category_id_df = df_es_copy[['Label', 'category_id']].drop_duplicates().sort_values('category_id')\n",
        "category_id_df.head()"
      ],
      "execution_count": null,
      "outputs": [
        {
          "output_type": "execute_result",
          "data": {
            "text/html": [
              "<div>\n",
              "<style scoped>\n",
              "    .dataframe tbody tr th:only-of-type {\n",
              "        vertical-align: middle;\n",
              "    }\n",
              "\n",
              "    .dataframe tbody tr th {\n",
              "        vertical-align: top;\n",
              "    }\n",
              "\n",
              "    .dataframe thead th {\n",
              "        text-align: right;\n",
              "    }\n",
              "</style>\n",
              "<table border=\"1\" class=\"dataframe\">\n",
              "  <thead>\n",
              "    <tr style=\"text-align: right;\">\n",
              "      <th></th>\n",
              "      <th>Label</th>\n",
              "      <th>category_id</th>\n",
              "    </tr>\n",
              "  </thead>\n",
              "  <tbody>\n",
              "    <tr>\n",
              "      <th>0</th>\n",
              "      <td>Sexualidad</td>\n",
              "      <td>0</td>\n",
              "    </tr>\n",
              "    <tr>\n",
              "      <th>1</th>\n",
              "      <td>Salud mental</td>\n",
              "      <td>1</td>\n",
              "    </tr>\n",
              "    <tr>\n",
              "      <th>2</th>\n",
              "      <td>Not_Label</td>\n",
              "      <td>2</td>\n",
              "    </tr>\n",
              "    <tr>\n",
              "      <th>4</th>\n",
              "      <td>V. Psicologica</td>\n",
              "      <td>3</td>\n",
              "    </tr>\n",
              "    <tr>\n",
              "      <th>5</th>\n",
              "      <td>Indicador psicologico</td>\n",
              "      <td>4</td>\n",
              "    </tr>\n",
              "  </tbody>\n",
              "</table>\n",
              "</div>"
            ],
            "text/plain": [
              "                   Label  category_id\n",
              "0             Sexualidad            0\n",
              "1           Salud mental            1\n",
              "2              Not_Label            2\n",
              "4         V. Psicologica            3\n",
              "5  Indicador psicologico            4"
            ]
          },
          "metadata": {
            "tags": []
          },
          "execution_count": 51
        }
      ]
    },
    {
      "cell_type": "code",
      "metadata": {
        "colab": {
          "base_uri": "https://localhost:8080/",
          "height": 204
        },
        "id": "eZi-hVfmqj9R",
        "outputId": "60e5750f-8ea1-4eee-e350-8044725067d7"
      },
      "source": [
        "#Convert into a dictionary\n",
        "category_to_id = dict(category_id_df.values)\n",
        "id_to_category = dict(category_id_df[['category_id', 'Label']].values)\n",
        "df_es_copy.head()"
      ],
      "execution_count": null,
      "outputs": [
        {
          "output_type": "execute_result",
          "data": {
            "text/html": [
              "<div>\n",
              "<style scoped>\n",
              "    .dataframe tbody tr th:only-of-type {\n",
              "        vertical-align: middle;\n",
              "    }\n",
              "\n",
              "    .dataframe tbody tr th {\n",
              "        vertical-align: top;\n",
              "    }\n",
              "\n",
              "    .dataframe thead th {\n",
              "        text-align: right;\n",
              "    }\n",
              "</style>\n",
              "<table border=\"1\" class=\"dataframe\">\n",
              "  <thead>\n",
              "    <tr style=\"text-align: right;\">\n",
              "      <th></th>\n",
              "      <th>Question</th>\n",
              "      <th>Label</th>\n",
              "      <th>category_id</th>\n",
              "    </tr>\n",
              "  </thead>\n",
              "  <tbody>\n",
              "    <tr>\n",
              "      <th>0</th>\n",
              "      <td>Tuve relaciones sexuales con mi novia, se romp...</td>\n",
              "      <td>Sexualidad</td>\n",
              "      <td>0</td>\n",
              "    </tr>\n",
              "    <tr>\n",
              "      <th>1</th>\n",
              "      <td>Porque aveses siento que no soy lo suficientem...</td>\n",
              "      <td>Salud mental</td>\n",
              "      <td>1</td>\n",
              "    </tr>\n",
              "    <tr>\n",
              "      <th>2</th>\n",
              "      <td>Que es para ti la vida?</td>\n",
              "      <td>Not_Label</td>\n",
              "      <td>2</td>\n",
              "    </tr>\n",
              "    <tr>\n",
              "      <th>3</th>\n",
              "      <td>La depresión es quedarte en tu cama llorando.?</td>\n",
              "      <td>Not_Label</td>\n",
              "      <td>2</td>\n",
              "    </tr>\n",
              "    <tr>\n",
              "      <th>4</th>\n",
              "      <td>¿Porque una persona es capaz de decir que te q...</td>\n",
              "      <td>V. Psicologica</td>\n",
              "      <td>3</td>\n",
              "    </tr>\n",
              "  </tbody>\n",
              "</table>\n",
              "</div>"
            ],
            "text/plain": [
              "                                            Question  ... category_id\n",
              "0  Tuve relaciones sexuales con mi novia, se romp...  ...           0\n",
              "1  Porque aveses siento que no soy lo suficientem...  ...           1\n",
              "2                            Que es para ti la vida?  ...           2\n",
              "3     La depresión es quedarte en tu cama llorando.?  ...           2\n",
              "4  ¿Porque una persona es capaz de decir que te q...  ...           3\n",
              "\n",
              "[5 rows x 3 columns]"
            ]
          },
          "metadata": {
            "tags": []
          },
          "execution_count": 52
        }
      ]
    },
    {
      "cell_type": "markdown",
      "metadata": {
        "id": "0EdCmbF6hya7"
      },
      "source": [
        "**Distribution**\n",
        "Show Imbalance data"
      ]
    },
    {
      "cell_type": "code",
      "metadata": {
        "colab": {
          "base_uri": "https://localhost:8080/",
          "height": 483
        },
        "id": "TcOP3uGEg_CO",
        "outputId": "546ff3f4-0bbc-495d-8c78-4b81fef69583"
      },
      "source": [
        "fig = plt.figure(figsize=(8,6))\n",
        "df_es.groupby('Label').Question.count().plot.bar(ylim=0)\n",
        "plt.show()"
      ],
      "execution_count": null,
      "outputs": [
        {
          "output_type": "display_data",
          "data": {
            "image/png": "[encoded data removed]",
            "text/plain": [
              "<Figure size 576x432 with 1 Axes>"
            ]
          },
          "metadata": {
            "tags": [],
            "needs_background": "light"
          }
        }
      ]
    },
    {
      "cell_type": "markdown",
      "metadata": {
        "id": "gzSVtOLivLLV"
      },
      "source": [
        "**Main Words (Unigrams and bigrams) Representation by Label/Category of Violence**"
      ]
    },
    {
      "cell_type": "code",
      "metadata": {
        "colab": {
          "base_uri": "https://localhost:8080/"
        },
        "id": "AHDZHnsGhx9x",
        "outputId": "c1719da1-cb69-43b4-bec7-34f44250ddb1"
      },
      "source": [
        "from sklearn.feature_extraction.text import TfidfVectorizer\n",
        "nltk.download('stopwords')"
      ],
      "execution_count": null,
      "outputs": [
        {
          "output_type": "stream",
          "text": [
            "[nltk_data] Downloading package stopwords to /root/nltk_data...\n",
            "[nltk_data]   Package stopwords is already up-to-date!\n"
          ],
          "name": "stdout"
        },
        {
          "output_type": "execute_result",
          "data": {
            "text/plain": [
              "True"
            ]
          },
          "metadata": {
            "tags": []
          },
          "execution_count": 54
        }
      ]
    },
    {
      "cell_type": "code",
      "metadata": {
        "id": "eMwqU1ugiM_8"
      },
      "source": [
        "es_stopwords =  set(stopwords.words('spanish'))"
      ],
      "execution_count": null,
      "outputs": []
    },
    {
      "cell_type": "code",
      "metadata": {
        "colab": {
          "base_uri": "https://localhost:8080/"
        },
        "id": "4I9vindahv4g",
        "outputId": "22bba1f2-4b5f-4c74-8a96-4f5b85b352e2"
      },
      "source": [
        "tfidf = TfidfVectorizer(sublinear_tf=True, min_df=5, norm='l2', encoding='latin-1', ngram_range=(1, 2), stop_words=es_stopwords)\n",
        "features = tfidf.fit_transform(df_es_copy.Question).toarray()\n",
        "labels = df_es_copy.category_id\n",
        "features.shape"
      ],
      "execution_count": null,
      "outputs": [
        {
          "output_type": "execute_result",
          "data": {
            "text/plain": [
              "(4216, 1677)"
            ]
          },
          "metadata": {
            "tags": []
          },
          "execution_count": 56
        }
      ]
    },
    {
      "cell_type": "code",
      "metadata": {
        "id": "qF2D5baViXib"
      },
      "source": [
        "from sklearn.feature_selection import chi2\n",
        "import numpy as np"
      ],
      "execution_count": null,
      "outputs": []
    },
    {
      "cell_type": "code",
      "metadata": {
        "colab": {
          "base_uri": "https://localhost:8080/"
        },
        "id": "qz4R-Nz_ijuL",
        "outputId": "c16b4970-e447-49bf-9cc0-662db9b99548"
      },
      "source": [
        "N = 2\n",
        "for Label, category_id in sorted(category_to_id.items()):\n",
        "  features_chi2 = chi2(features, labels == category_id)\n",
        "  indices = np.argsort(features_chi2[0])\n",
        "  feature_names = np.array(tfidf.get_feature_names())[indices]\n",
        "  unigrams = [v for v in feature_names if len(v.split(' ')) == 1]\n",
        "  bigrams = [v for v in feature_names if len(v.split(' ')) == 2]\n",
        "  print(\"# '{}':\".format(Label))\n",
        "  print(\"  . Most correlated unigrams:\\n. {}\".format('\\n. '.join(unigrams[-N:])))\n",
        "  print(\"  . Most correlated bigrams:\\n. {}\".format('\\n. '.join(bigrams[-N:])))"
      ],
      "execution_count": null,
      "outputs": [
        {
          "output_type": "stream",
          "text": [
            "# 'Autocuidado':\n",
            "  . Most correlated unigrams:\n",
            ". mejorar\n",
            ". alrededor\n",
            "  . Most correlated bigrams:\n",
            ". dejar ser\n",
            ". si bien\n",
            "# 'Duelo':\n",
            "  . Most correlated unigrams:\n",
            ". regrese\n",
            ". olvidar\n",
            "  . Most correlated bigrams:\n",
            ". ex novia\n",
            ". puedo hacer\n",
            "# 'Indicador psicologico':\n",
            "  . Most correlated unigrams:\n",
            ". suficientemente\n",
            ". casado\n",
            "  . Most correlated bigrams:\n",
            ". día siguiente\n",
            ". veces siento\n",
            "# 'Not_Label':\n",
            "  . Most correlated unigrams:\n",
            ". alrededor\n",
            ". suficientemente\n",
            "  . Most correlated bigrams:\n",
            ". día siguiente\n",
            ". novio hace\n",
            "# 'Otro':\n",
            "  . Most correlated unigrams:\n",
            ". nuevo\n",
            ". duele\n",
            "  . Most correlated bigrams:\n",
            ". cómo puedo\n",
            ". puedo hacer\n",
            "# 'Relación':\n",
            "  . Most correlated unigrams:\n",
            ". pareja\n",
            ". tratado\n",
            "  . Most correlated bigrams:\n",
            ". ser feliz\n",
            ". puedo sentirme\n",
            "# 'Salud mental':\n",
            "  . Most correlated unigrams:\n",
            ". sueño\n",
            ". ansiosa\n",
            "  . Most correlated bigrams:\n",
            ". controlar emociones\n",
            ". puedo ayudar\n",
            "# 'Sexualidad':\n",
            "  . Most correlated unigrams:\n",
            ". conseguir\n",
            ". pornografia\n",
            "  . Most correlated bigrams:\n",
            ". puedo dejar\n",
            ". ganas tener\n",
            "# 'Suicidio':\n",
            "  . Most correlated unigrams:\n",
            ". deseos\n",
            ". queda\n",
            "  . Most correlated bigrams:\n",
            ". siento gusto\n",
            ". pensamientos suicidas\n",
            "# 'V. Fisica':\n",
            "  . Most correlated unigrams:\n",
            ". siento\n",
            ". golpes\n",
            "  . Most correlated bigrams:\n",
            ". cómo puedo\n",
            ". puedo hacer\n",
            "# 'V. Patrimonial':\n",
            "  . Most correlated unigrams:\n",
            ". madre\n",
            ". crees\n",
            "  . Most correlated bigrams:\n",
            ". puedo hacer\n",
            ". llevo años\n",
            "# 'V. Psicologica':\n",
            "  . Most correlated unigrams:\n",
            ". cambie\n",
            ". afecta\n",
            "  . Most correlated bigrams:\n",
            ". novio hace\n",
            ". siento culpable\n",
            "# 'V. Sexual':\n",
            "  . Most correlated unigrams:\n",
            ". pedí\n",
            ". saliendo\n",
            "  . Most correlated bigrams:\n",
            ". cosas feas\n",
            ". sé hacer\n"
          ],
          "name": "stdout"
        }
      ]
    },
    {
      "cell_type": "markdown",
      "metadata": {
        "id": "3duPrNzq5atn"
      },
      "source": [
        "**Naive Bayes Classifier**"
      ]
    },
    {
      "cell_type": "code",
      "metadata": {
        "id": "3VZNf_C6vcez"
      },
      "source": [
        "from sklearn.model_selection import train_test_split\n",
        "from sklearn.feature_extraction.text import CountVectorizer\n",
        "from sklearn.feature_extraction.text import TfidfTransformer\n",
        "from sklearn.naive_bayes import MultinomialNB"
      ],
      "execution_count": null,
      "outputs": []
    },
    {
      "cell_type": "code",
      "metadata": {
        "id": "tHJbdrNvkWqh"
      },
      "source": [
        "X_train, X_test, y_train, y_test = train_test_split(df_es_copy['Question'], df_es_copy['Label'], random_state = 0)\n",
        "count_vect = CountVectorizer()\n",
        "X_train_counts = count_vect.fit_transform(X_train)\n",
        "tfidf_transformer = TfidfTransformer()\n",
        "X_train_tfidf = tfidf_transformer.fit_transform(X_train_counts)\n",
        "clf = MultinomialNB().fit(X_train_tfidf, y_train)"
      ],
      "execution_count": null,
      "outputs": []
    },
    {
      "cell_type": "code",
      "metadata": {
        "colab": {
          "base_uri": "https://localhost:8080/"
        },
        "id": "L62v166hxJUh",
        "outputId": "aea747ea-4fbe-44b0-bca0-ef92193586d0"
      },
      "source": [
        "print(clf.predict(count_vect.transform([\"¿Porque una persona es capaz de decir que te quiere y que le importas y luego hacer cosas que atentan contra ti porque sabe que te lastiman? Como es que las personas son capaces de mentir de esa manera, de involucrarse y fingir que les importas y que les interesa conocerte y mientras hacen eso al mismo tiempo te mienten y tratan de hacer cosas que te hagan sentir mal?\"])))"
      ],
      "execution_count": null,
      "outputs": [
        {
          "output_type": "stream",
          "text": [
            "['Not_Label']\n"
          ],
          "name": "stdout"
        }
      ]
    },
    {
      "cell_type": "code",
      "metadata": {
        "colab": {
          "base_uri": "https://localhost:8080/"
        },
        "id": "gSfilPJBxtzd",
        "outputId": "e0ee322d-28c3-48c2-cc2a-8f31a66f9815"
      },
      "source": [
        "print(clf.predict(count_vect.transform([\"he escrito este hilo infinidad de veces y lo he borrado siempre, por miedo al juicio social, a mi ex y a la estigmatiza…\"])))"
      ],
      "execution_count": null,
      "outputs": [
        {
          "output_type": "stream",
          "text": [
            "['Not_Label']\n"
          ],
          "name": "stdout"
        }
      ]
    },
    {
      "cell_type": "markdown",
      "metadata": {
        "id": "9qrwyp9k5gxF"
      },
      "source": [
        "**Models Accuracy**"
      ]
    },
    {
      "cell_type": "code",
      "metadata": {
        "id": "77TMQHWhx-a2"
      },
      "source": [
        "from sklearn.linear_model import LogisticRegression\n",
        "from sklearn.ensemble import RandomForestClassifier\n",
        "from sklearn.svm import LinearSVC\n",
        "from sklearn.model_selection import cross_val_score"
      ],
      "execution_count": null,
      "outputs": []
    },
    {
      "cell_type": "code",
      "metadata": {
        "colab": {
          "base_uri": "https://localhost:8080/"
        },
        "id": "BHuYLjTx5Cp5",
        "outputId": "09b8ad06-0497-40fd-eaf8-22447f9f7102"
      },
      "source": [
        "models = [\n",
        "    RandomForestClassifier(n_estimators=200, max_depth=3, random_state=0),\n",
        "    LinearSVC(),\n",
        "    MultinomialNB(),\n",
        "    LogisticRegression(random_state=0),\n",
        "]\n",
        "CV = 5\n",
        "cv_df = pd.DataFrame(index=range(CV * len(models)))\n",
        "entries = []\n",
        "for model in models:\n",
        "  model_name = model.__class__.__name__\n",
        "  accuracies = cross_val_score(model, features, labels, scoring='accuracy', cv=CV)\n",
        "  for fold_idx, accuracy in enumerate(accuracies):\n",
        "    entries.append((model_name, fold_idx, accuracy))\n",
        "cv_df = pd.DataFrame(entries, columns=['model_name', 'fold_idx', 'accuracy'])\n"
      ],
      "execution_count": null,
      "outputs": [
        {
          "output_type": "stream",
          "text": [
            "/usr/local/lib/python3.7/dist-packages/sklearn/model_selection/_split.py:667: UserWarning:\n",
            "\n",
            "The least populated class in y has only 1 members, which is less than n_splits=5.\n",
            "\n",
            "/usr/local/lib/python3.7/dist-packages/sklearn/model_selection/_split.py:667: UserWarning:\n",
            "\n",
            "The least populated class in y has only 1 members, which is less than n_splits=5.\n",
            "\n",
            "/usr/local/lib/python3.7/dist-packages/sklearn/model_selection/_split.py:667: UserWarning:\n",
            "\n",
            "The least populated class in y has only 1 members, which is less than n_splits=5.\n",
            "\n",
            "/usr/local/lib/python3.7/dist-packages/sklearn/model_selection/_split.py:667: UserWarning:\n",
            "\n",
            "The least populated class in y has only 1 members, which is less than n_splits=5.\n",
            "\n"
          ],
          "name": "stderr"
        }
      ]
    },
    {
      "cell_type": "code",
      "metadata": {
        "colab": {
          "base_uri": "https://localhost:8080/"
        },
        "id": "i1fDGPnU5QHO",
        "outputId": "fc065fb0-c012-4826-cfa3-bf275e7741d6"
      },
      "source": [
        "cv_df.groupby('model_name').accuracy.mean()"
      ],
      "execution_count": null,
      "outputs": [
        {
          "output_type": "execute_result",
          "data": {
            "text/plain": [
              "model_name\n",
              "LinearSVC                 0.960152\n",
              "LogisticRegression        0.960626\n",
              "MultinomialNB             0.960626\n",
              "RandomForestClassifier    0.960626\n",
              "Name: accuracy, dtype: float64"
            ]
          },
          "metadata": {
            "tags": []
          },
          "execution_count": 73
        }
      ]
    },
    {
      "cell_type": "code",
      "metadata": {
        "id": "mvsdQly95X5R"
      },
      "source": [
        ""
      ],
      "execution_count": null,
      "outputs": []
    }
  ]
}