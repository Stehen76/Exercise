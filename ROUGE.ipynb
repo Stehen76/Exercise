{
 "cells": [
  {
   "cell_type": "code",
   "execution_count": 1,
   "id": "wound-sellers",
   "metadata": {},
   "outputs": [],
   "source": [
    "from rouge import Rouge \n",
    "\n",
    "hypothesis = 'Hace 2 años, un niño entró en mi casa, me abusó sexualmente. Mi mamá me odia por eso, ella cree que fue mi culpa desde ese día todo cambió.'\n",
    "\n",
    "reference = \"Hace 2 años entró un chico a mi casa, abusó sexualmente de mí. Mi mamá me odia por eso, cree que fue mi culpa desde ese día todo cambió. Mi mamá siempre me decía que ella era el amor y la luz de su vida, que ella era la niña hermosa de ella: suplicante_cara :: llorar: pero desde ese día ella cambió y solo me reprocha en todo momento lo que soy: una fracasada , que no compro nada, que salgo de la casa de ella, que no quiere ser ternme con ella y que soy una decepción (muchas cosas feas) me duele mucho porque somos mi mamá y yo si yo la amo: suplicante_cara: pero ella no se siente bien, no puedo sentirme bien, casi reprendió el semestre por pensar la situación, no me concentro en nada, hace 2 años Y no hay un solo día que mi mente no lo haga recuerda esa noche: llorar :, solo quiero estar llorando todo el tiempo por mi miserable vida, de verdad no quiero pensar, ya no quiero nada, no quiero dolor: suplicante_cara: no se que hacer do: pensativo: sé que nadie va a leer, al menos me ayuda a desahogarme, al menos aunque sea un bot que me pregunte.\"\n",
    "\n",
    "rouge = Rouge()\n",
    "scores = rouge.get_scores(hypothesis, reference)"
   ]
  },
  {
   "cell_type": "code",
   "execution_count": 2,
   "id": "atomic-night",
   "metadata": {},
   "outputs": [
    {
     "data": {
      "text/plain": [
       "[{'rouge-1': {'f': 0.22689075416248858,\n",
       "   'p': 0.9310344827586207,\n",
       "   'r': 0.1291866028708134},\n",
       "  'rouge-2': {'f': 0.14406779451881643,\n",
       "   'p': 0.6071428571428571,\n",
       "   'r': 0.08173076923076923},\n",
       "  'rouge-l': {'f': 0.3066666637146667,\n",
       "   'p': 0.8518518518518519,\n",
       "   'r': 0.18699186991869918}}]"
      ]
     },
     "execution_count": 2,
     "metadata": {},
     "output_type": "execute_result"
    }
   ],
   "source": [
    "scores"
   ]
  },
  {
   "cell_type": "code",
   "execution_count": 3,
   "id": "indie-coaching",
   "metadata": {},
   "outputs": [],
   "source": [
    "import pandas as pd"
   ]
  },
  {
   "cell_type": "code",
   "execution_count": 5,
   "id": "killing-fantasy",
   "metadata": {},
   "outputs": [
    {
     "data": {
      "text/html": [
       "<div>\n",
       "<style scoped>\n",
       "    .dataframe tbody tr th:only-of-type {\n",
       "        vertical-align: middle;\n",
       "    }\n",
       "\n",
       "    .dataframe tbody tr th {\n",
       "        vertical-align: top;\n",
       "    }\n",
       "\n",
       "    .dataframe thead th {\n",
       "        text-align: right;\n",
       "    }\n",
       "</style>\n",
       "<table border=\"1\" class=\"dataframe\">\n",
       "  <thead>\n",
       "    <tr style=\"text-align: right;\">\n",
       "      <th></th>\n",
       "      <th>RelatoFixedTranslated</th>\n",
       "      <th>Summaries</th>\n",
       "    </tr>\n",
       "  </thead>\n",
       "  <tbody>\n",
       "    <tr>\n",
       "      <th>0</th>\n",
       "      <td>I have suffered sexual abuse for as long as I ...</td>\n",
       "      <td>['I have been sexually abused by a family memb...</td>\n",
       "    </tr>\n",
       "    <tr>\n",
       "      <th>1</th>\n",
       "      <td>I feel so much anger so much helplessness. Eve...</td>\n",
       "      <td>[\"You can't live in a society that ridicules y...</td>\n",
       "    </tr>\n",
       "    <tr>\n",
       "      <th>2</th>\n",
       "      <td>I have been leading a normal life for a long t...</td>\n",
       "      <td>['The amount of bad memories that go through m...</td>\n",
       "    </tr>\n",
       "    <tr>\n",
       "      <th>3</th>\n",
       "      <td>I had a supposed uncle ... from the time I am ...</td>\n",
       "      <td>[\"From the time I was 8 years old, he groped m...</td>\n",
       "    </tr>\n",
       "    <tr>\n",
       "      <th>4</th>\n",
       "      <td>30 years ago when I turned 15 my mom told me t...</td>\n",
       "      <td>['30 years ago when I turned 15 my mom told me...</td>\n",
       "    </tr>\n",
       "  </tbody>\n",
       "</table>\n",
       "</div>"
      ],
      "text/plain": [
       "                               RelatoFixedTranslated  \\\n",
       "0  I have suffered sexual abuse for as long as I ...   \n",
       "1  I feel so much anger so much helplessness. Eve...   \n",
       "2  I have been leading a normal life for a long t...   \n",
       "3  I had a supposed uncle ... from the time I am ...   \n",
       "4  30 years ago when I turned 15 my mom told me t...   \n",
       "\n",
       "                                           Summaries  \n",
       "0  ['I have been sexually abused by a family memb...  \n",
       "1  [\"You can't live in a society that ridicules y...  \n",
       "2  ['The amount of bad memories that go through m...  \n",
       "3  [\"From the time I was 8 years old, he groped m...  \n",
       "4  ['30 years ago when I turned 15 my mom told me...  "
      ]
     },
     "execution_count": 5,
     "metadata": {},
     "output_type": "execute_result"
    }
   ],
   "source": [
    "pegasus = pd.read_excel(\"summaries_with_Pegasus.xlsx\", index_col=0)\n",
    "pegasus.head()"
   ]
  },
  {
   "cell_type": "code",
   "execution_count": 6,
   "id": "cheap-devices",
   "metadata": {},
   "outputs": [
    {
     "data": {
      "text/html": [
       "<div>\n",
       "<style scoped>\n",
       "    .dataframe tbody tr th:only-of-type {\n",
       "        vertical-align: middle;\n",
       "    }\n",
       "\n",
       "    .dataframe tbody tr th {\n",
       "        vertical-align: top;\n",
       "    }\n",
       "\n",
       "    .dataframe thead th {\n",
       "        text-align: right;\n",
       "    }\n",
       "</style>\n",
       "<table border=\"1\" class=\"dataframe\">\n",
       "  <thead>\n",
       "    <tr style=\"text-align: right;\">\n",
       "      <th></th>\n",
       "      <th>RelatoFixedTranslated</th>\n",
       "      <th>Summaries</th>\n",
       "    </tr>\n",
       "  </thead>\n",
       "  <tbody>\n",
       "    <tr>\n",
       "      <th>0</th>\n",
       "      <td>I have suffered sexual abuse for as long as I ...</td>\n",
       "      <td>I have suffered sexual abuse for as long as I ...</td>\n",
       "    </tr>\n",
       "    <tr>\n",
       "      <th>1</th>\n",
       "      <td>I feel so much anger so much helplessness. Eve...</td>\n",
       "      <td>I feel so much anger so much helplessness. The...</td>\n",
       "    </tr>\n",
       "    <tr>\n",
       "      <th>2</th>\n",
       "      <td>I have been leading a normal life for a long t...</td>\n",
       "      <td>I have been leading a normal life for a long t...</td>\n",
       "    </tr>\n",
       "    <tr>\n",
       "      <th>3</th>\n",
       "      <td>I had a supposed uncle ... from the time I am ...</td>\n",
       "      <td>I had a supposed uncle ... from the time I am ...</td>\n",
       "    </tr>\n",
       "    <tr>\n",
       "      <th>4</th>\n",
       "      <td>30 years ago when I turned 15 my mom told me t...</td>\n",
       "      <td>NaN</td>\n",
       "    </tr>\n",
       "    <tr>\n",
       "      <th>...</th>\n",
       "      <td>...</td>\n",
       "      <td>...</td>\n",
       "    </tr>\n",
       "    <tr>\n",
       "      <th>1177</th>\n",
       "      <td>One day I did not want to have sexual relation...</td>\n",
       "      <td>One day I did not want to have sexual relation...</td>\n",
       "    </tr>\n",
       "    <tr>\n",
       "      <th>1178</th>\n",
       "      <td>I was 5 months pregnant my partner wanted to h...</td>\n",
       "      <td>I was 5 months pregnant my partner wanted to h...</td>\n",
       "    </tr>\n",
       "    <tr>\n",
       "      <th>1179</th>\n",
       "      <td>My name is Sarasa, I am 16 years old and I am ...</td>\n",
       "      <td>My name is Sarasa, I am 16 years old and I am ...</td>\n",
       "    </tr>\n",
       "    <tr>\n",
       "      <th>1180</th>\n",
       "      <td>I do not remember when I am abused, I do not k...</td>\n",
       "      <td>the next day I woke up and I would not remembe...</td>\n",
       "    </tr>\n",
       "    <tr>\n",
       "      <th>1181</th>\n",
       "      <td>just to remember it again neurasthenia 14 year...</td>\n",
       "      <td>NaN</td>\n",
       "    </tr>\n",
       "  </tbody>\n",
       "</table>\n",
       "<p>1182 rows × 2 columns</p>\n",
       "</div>"
      ],
      "text/plain": [
       "                                  RelatoFixedTranslated  \\\n",
       "0     I have suffered sexual abuse for as long as I ...   \n",
       "1     I feel so much anger so much helplessness. Eve...   \n",
       "2     I have been leading a normal life for a long t...   \n",
       "3     I had a supposed uncle ... from the time I am ...   \n",
       "4     30 years ago when I turned 15 my mom told me t...   \n",
       "...                                                 ...   \n",
       "1177  One day I did not want to have sexual relation...   \n",
       "1178  I was 5 months pregnant my partner wanted to h...   \n",
       "1179  My name is Sarasa, I am 16 years old and I am ...   \n",
       "1180  I do not remember when I am abused, I do not k...   \n",
       "1181  just to remember it again neurasthenia 14 year...   \n",
       "\n",
       "                                              Summaries  \n",
       "0     I have suffered sexual abuse for as long as I ...  \n",
       "1     I feel so much anger so much helplessness. The...  \n",
       "2     I have been leading a normal life for a long t...  \n",
       "3     I had a supposed uncle ... from the time I am ...  \n",
       "4                                                   NaN  \n",
       "...                                                 ...  \n",
       "1177  One day I did not want to have sexual relation...  \n",
       "1178  I was 5 months pregnant my partner wanted to h...  \n",
       "1179  My name is Sarasa, I am 16 years old and I am ...  \n",
       "1180  the next day I woke up and I would not remembe...  \n",
       "1181                                                NaN  \n",
       "\n",
       "[1182 rows x 2 columns]"
      ]
     },
     "execution_count": 6,
     "metadata": {},
     "output_type": "execute_result"
    }
   ],
   "source": [
    "bert = pd.read_excel(\"summaries_with_BERT.xlsx\", index_col=0)\n",
    "bert"
   ]
  },
  {
   "cell_type": "code",
   "execution_count": 15,
   "id": "european-winner",
   "metadata": {},
   "outputs": [
    {
     "data": {
      "text/plain": [
       "[{'rouge-1': {'f': 0.15942028769481204,\n",
       "   'p': 0.6470588235294118,\n",
       "   'r': 0.09090909090909091},\n",
       "  'rouge-2': {'f': 0.10294117439446371,\n",
       "   'p': 0.4375,\n",
       "   'r': 0.058333333333333334},\n",
       "  'rouge-l': {'f': 0.1538461512426036, 'p': 0.5, 'r': 0.09090909090909091}}]"
      ]
     },
     "execution_count": 15,
     "metadata": {},
     "output_type": "execute_result"
    }
   ],
   "source": [
    "# Rouge of Pegasus\n",
    "rouge = Rouge()\n",
    "\n",
    "text = pegasus['RelatoFixedTranslated'][0]\n",
    "\n",
    "summary_peg = pegasus['Summaries'][0]\n",
    "\n",
    "scores = rouge.get_scores(summary_peg, text)\n",
    "scores"
   ]
  },
  {
   "cell_type": "code",
   "execution_count": 16,
   "id": "cosmetic-abraham",
   "metadata": {},
   "outputs": [
    {
     "data": {
      "text/plain": [
       "[{'rouge-1': {'f': 0.4155844122170687,\n",
       "   'p': 0.9696969696969697,\n",
       "   'r': 0.2644628099173554},\n",
       "  'rouge-2': {'f': 0.3947368387811635, 'p': 0.9375, 'r': 0.25},\n",
       "  'rouge-l': {'f': 0.47863247490393745,\n",
       "   'p': 0.9655172413793104,\n",
       "   'r': 0.3181818181818182}}]"
      ]
     },
     "execution_count": 16,
     "metadata": {},
     "output_type": "execute_result"
    }
   ],
   "source": [
    "text = bert['RelatoFixedTranslated'][0]\n",
    "summary_bert = bert['Summaries'][0]\n",
    "\n",
    "scores = rouge.get_scores(summary_bert, text)\n",
    "scores"
   ]
  },
  {
   "cell_type": "code",
   "execution_count": null,
   "id": "satellite-columbia",
   "metadata": {},
   "outputs": [],
   "source": [
    "accumulative_score = 0\n",
    "for i in len(bert):\n",
    "    score = rouge.get_scores(bert['Summaries'][i], bert['RelatoFixedTranslated'][i])\n",
    "    accumulative_score += score\n",
    "\n",
    "print"
   ]
  }
 ],
 "metadata": {
  "kernelspec": {
   "display_name": "Python 3",
   "language": "python",
   "name": "python3"
  },
  "language_info": {
   "codemirror_mode": {
    "name": "ipython",
    "version": 3
   },
   "file_extension": ".py",
   "mimetype": "text/x-python",
   "name": "python",
   "nbconvert_exporter": "python",
   "pygments_lexer": "ipython3",
   "version": "3.8.8"
  }
 },
 "nbformat": 4,
 "nbformat_minor": 5
}
